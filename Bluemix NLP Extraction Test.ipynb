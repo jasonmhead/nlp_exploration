{
 "cells": [
  {
   "cell_type": "code",
   "execution_count": 50,
   "metadata": {
    "collapsed": true
   },
   "outputs": [],
   "source": [
    "from __future__ import print_function\n",
    "import json\n",
    "from watson_developer_cloud import AlchemyLanguageV1"
   ]
  },
  {
   "cell_type": "code",
   "execution_count": 16,
   "metadata": {
    "collapsed": false
   },
   "outputs": [],
   "source": [
    "watson_api_key_file = text_file = open(\"data/watson_api_key\", \"r\")\n",
    "watson_api_key = watson_api_key_file.read().strip()\n",
    "alchemy_language = AlchemyLanguageV1(api_key=watson_api_key)"
   ]
  },
  {
   "cell_type": "code",
   "execution_count": 58,
   "metadata": {
    "collapsed": false
   },
   "outputs": [],
   "source": [
    "# http://www.businessinsider.com/top-17-startups-launched-in-2016-2016-6\n",
    "\n",
    "api_result = json.dumps(\n",
    "  alchemy_language.relations(\n",
    "    url='http://www.businessinsider.com/top-17-startups-launched-in-2016-2016-6',\n",
    "    max_items=100,\n",
    "    entities=1),\n",
    "  indent=2)"
   ]
  },
  {
   "cell_type": "code",
   "execution_count": 59,
   "metadata": {
    "collapsed": false
   },
   "outputs": [],
   "source": [
    "result_dict = json.loads(api_result)"
   ]
  },
  {
   "cell_type": "code",
   "execution_count": 70,
   "metadata": {
    "collapsed": false
   },
   "outputs": [
    {
     "name": "stdout",
     "output_type": "stream",
     "text": [
      "\n",
      "Great businesses -> launch -> [none]\n",
      "\n",
      "the start of 2016 -> have -> spelled trouble for some well-established startups\n",
      "\n",
      "the start of 2016 -> spell -> trouble\n",
      "\n",
      "it -> see -> the birth of companies tackling things like a cure for cancer, superfast internet, and competition for Uber\n",
      "\n",
      "Business Insider -> take -> a look at funding data\n",
      "\n",
      "some of the startups -> have -> the biggest starts in 2016\n",
      "\n",
      "Some names on the list -> be -> officially launching out of stealth\n",
      "\n",
      "Some names on the list -> launch -> of stealth\n",
      "\n",
      "others -> be -> [none]\n",
      "\n",
      "others -> form -> a company\n",
      "\n",
      "by the former CEO of Aereo, Chet Kanojia -> Launched -> [none]\n",
      "\n",
      "Starry -> sell -> wireless equipment that will deliver supercharged internet speeds up to 1 gigabit per second\n",
      "\n",
      "wireless equipment -> deliver -> supercharged internet speeds\n",
      "\n",
      "That -> has -> to download a two-hour movie\n",
      "\n",
      "a two-hour movie -> download -> [none]\n",
      "\n",
      "Starry -> make -> a receiver\n",
      "\n",
      "You -> hook -> your own wireless receiver\n",
      "\n",
      "a $350 device -> tell -> you\n",
      "\n",
      "the three-year-old startup -> launch -> [none]\n",
      "\n",
      "The product -> be -> a smart, Wi-Fi-connected kitchen appliance that presses pouches the size of IV bags into tasty concoctions of fresh fruits and veggies\n",
      "\n",
      "a smart, Wi-Fi-connected kitchen appliance -> press -> pouches\n",
      "\n",
      "There -> has -> no preparation, mess\n",
      "\n",
      "you -> slip -> [none]\n",
      "\n",
      "a price tag -> have -> drawn criticism about the young startup\n",
      "\n",
      "a price tag -> draw -> criticism\n",
      "\n",
      "its investors -> believe -> the price will decrease as the company matures\n",
      "\n",
      "a group of Silicon Valley investors -> develop -> a blood test for any kind of cancer\n",
      "\n",
      "a new company called Grail -> Using -> Illumina's technology\n",
      "\n",
      "a new company -> call -> Grail\n",
      "\n",
      "a new company called Grail -> look -> for a way to measure circulating nucleic acids — bits of DNA that circulate in the blood outside blood cells\n",
      "\n",
      "nucleic acids — bits of DNA -> circulate -> [none]\n",
      "\n",
      "most of our DNA -> be -> inside our cells\n",
      "\n",
      "scientists -> use -> CNAs\n",
      "\n",
      "Yunha Kim -> want -> to help other overworked millennials de-stress through the one thing that worked for her: meditation\n",
      "\n",
      "Yunha Kim -> help -> other overworked millennials de-stress through the one thing that worked for her: meditation\n",
      "\n",
      "Simple Habit -> be -> n't an app that's all about chakras or sitting in the dark for 30 minutes\n",
      "\n",
      "an app -> sit -> in the dark\n",
      "\n",
      "meditation -> work -> [none]\n",
      "\n",
      "Apple -> have -> already featured Simple Habit\n",
      "\n",
      "Apple -> feature -> Simple Habit\n",
      "\n",
      "we -> love -> its \"new apps\n",
      "\n",
      "Most people -> want -> to know\n",
      "\n",
      "Most people -> know -> if they're being paid fairly but don't know how to find out\n",
      "\n",
      "they -> be -> paid fairly\n",
      "\n",
      "Comparably, a new Glassdoor-style competitor, -> bring -> transparency\n",
      "\n",
      "A worker -> report -> their salary\n",
      "\n",
      "the site -> show -> where they rank compared with their peers with the same position and experience level\n",
      "\n",
      "the Zipline team -> have -> been secretly working on its lifesaving mission\n",
      "\n",
      "the Zipline team -> be -> [none]\n",
      "\n",
      "the Zipline team -> work -> on its lifesaving mission\n",
      "\n",
      "the company -> reveal -> its project to the world: a drone that could deliver up to 3 pounds of blood or medicine\n",
      "\n",
      "a drone -> deliver -> up to 3 pounds of blood or medicine\n",
      "\n",
      "it -> has -> not just an idea — the company is scheduled to start making drops to health clinics in Rwanda in July in partnership with the country's government\n",
      "\n",
      "— the company -> schedule -> to start making drops to health clinics in Rwanda in July in partnership with the country's government\n",
      "\n",
      "Computer vision and parenting -> be -> two things that normally don't go together\n",
      "\n",
      "Nanit -> be -> a smart baby camera that combines them\n",
      "\n",
      "a smart baby camera -> combine -> them\n",
      "\n",
      "The camera -> watch -> your baby sleep\n",
      "\n",
      "The camera -> give -> not only an eye into the crib\n",
      "\n",
      "It -> track -> things\n",
      "\n",
      "it -> take -> your infant\n",
      "\n",
      "it -> provide -> a heat map of where in the crib they love to sleep\n",
      "\n",
      "they -> sleep -> the crib\n",
      "\n",
      "people -> have -> more and more subscriptions (Amazon, Netflix, Hulu, your gym\n",
      "\n",
      "they -> be -> [none]\n",
      "\n",
      "they -> sign -> ones\n",
      "\n",
      "His solution -> be -> Truebill\n",
      "\n",
      "a startup -> scan -> your monthly credit card bills\n",
      "\n",
      "a startup -> help -> you cancel the subscriptions you don't want\n",
      "\n",
      "you -> do -> the subscriptions\n",
      "\n",
      "you -> want -> the subscriptions\n",
      "\n",
      "Not every office -> come -> with a nap pod\n",
      "\n",
      "a four-person San Francisco startup, Recharge, -> be -> giving people the chance to find some quiet during the day\n",
      "\n",
      "the chance to find some quiet during the day -> give -> people\n",
      "\n",
      "people -> find -> some quiet\n",
      "\n",
      "the startup -> charge -> people\n",
      "\n",
      "the startup -> have -> a built-in ratings system to make sure unwanted guests stay out of the app\n"
     ]
    }
   ],
   "source": [
    "for relation in result_dict['relations']:\n",
    "    relation_subject = relation['subject']['text']\n",
    "    relation_verb = relation['action']['verb']['text']\n",
    "    try:\n",
    "        relation_object = relation['object']['text']\n",
    "    except:\n",
    "        relation_object = \"[none]\"\n",
    "        \n",
    "    try:\n",
    "        object_entity = relation['object']['entities']['type']\n",
    "    except: \n",
    "        object_entity = \"\"\n",
    "\n",
    "    print(object_entity)\n",
    "    print(relation_subject,\"->\",relation_verb,\"->\",relation_object)\n",
    "   "
   ]
  },
  {
   "cell_type": "code",
   "execution_count": null,
   "metadata": {
    "collapsed": false
   },
   "outputs": [],
   "source": []
  },
  {
   "cell_type": "code",
   "execution_count": null,
   "metadata": {
    "collapsed": true
   },
   "outputs": [],
   "source": []
  }
 ],
 "metadata": {
  "kernelspec": {
   "display_name": "IPython (Python 2)",
   "language": "python",
   "name": "python2"
  },
  "language_info": {
   "codemirror_mode": {
    "name": "ipython",
    "version": 2
   },
   "file_extension": ".py",
   "mimetype": "text/x-python",
   "name": "python",
   "nbconvert_exporter": "python",
   "pygments_lexer": "ipython2",
   "version": "2.7.10"
  }
 },
 "nbformat": 4,
 "nbformat_minor": 0
}
