{
 "cells": [
  {
   "cell_type": "code",
   "execution_count": 6,
   "metadata": {
    "collapsed": false
   },
   "outputs": [],
   "source": [
    "import spacy\n",
    "#en_nlp = spacy.load('en')"
   ]
  },
  {
   "cell_type": "code",
   "execution_count": 4,
   "metadata": {
    "collapsed": false
   },
   "outputs": [],
   "source": [
    "testText = \"\"\"\n",
    "from http://www.inc.com/ilya-pozin/18-tech-companies-to-get-excited-about.html\n",
    "\n",
    "Each week, month, year brings with it a crop of innovative tech companies that are bringing disruption to our lives, industries, and the world at large. The companies on this list are rethinking categories as diverse as consumer electronics, social networking, cyber security, and media. All of them are bringing novel approaches to their markets and are worthing keeping an eye on. Here are 18 innovative tech companies to get excited about:\n",
    "\n",
    "Nextdoor\n",
    "\n",
    "Taking a different tack on local social networking, Nextdoor is becoming a hyper-local version of Facebook or LinkedIn. Nextdoor hosts private social networks for neighbors. The result is that content shared on Nextdoor tends to be highly relevant for everyone who sees it. Nextdoor is addressing social network fatigue, the nearly pervasive feeling that social network users are bombarded with information that doesn't interest them. Investors have bet$210 million in funding that Nextdoor is correct that the key to making content more relevant is to make it more local.\n",
    "\n",
    "ConnectAndSell\n",
    "\n",
    "Everyone knows the basic axiom of sales: It takes 100 calls to get 10 people on the line and 10 conversations to make a single sale. Adjust the numbers as you see fit. This is the reality of sales, and there's a lot of time wasted during that winnowing process. ConnectAndSell is a tech company that automates as much of the dialing and switchboard navigation process as possible, so that salespeople spend less time dialing numbers, listening to phones ring, getting past gatekeepers, and waiting on hold--and more time speaking to decision-makers on the phone. According to ConnectAndSell's website, the platform has made 65 million dials and delivered over three million conversations to 1,000 customers. Imagine what happens to sales if 100 calls are multiplied by five (the low end of the improvement that ConnectAndSell claims its clients experience).\n",
    "\n",
    "Wish\n",
    "\n",
    "If you don't know what Wish is yet, the online merchant is willing to spend $100 million to change that. That's how much Wish reportedly spent on Facebook ads in 2015, a figure it intends to match in 2016. In the game of razor-thin online merchandising -- i.e., the game invented and dominated by Amazon -- Wish has forged a new way forward. Instead of relying on local warehouses and two-day shipping, Wish offers bargain basement prices for goods--ranging from clothing to gadgets to jewelry--that can take weeks to arrive. The low prices and long lead times are the result of sourcing many of its products directly from merchants in China, cutting out all middlemen. Wish is long on ambition. Its CEO has reportedly rejected multi-billion-dollar acquisition offers and has thrown around the number $1 trillion as a target for future gross sales.\n",
    "\n",
    "Jet.com\n",
    "\n",
    "Another ascendant Amazon challenger, Jet.com lowers prices with a different strategy: by selling all kinds of goods, including home and personal care products, groceries and electronics, in discounted bundles. Rather than take a small cut--as Amazon does--whenever a consumer buys a single low-priced good, Jet.com makes sure that every one of its sales is economic, so that it can offer steeper discounts. Like Wish, Jet.com has recognized that it can't beat Amazon at its own game, so it has a devised a new one that gives it a chance to do business on its own terms. Investors have bought into the rationale, pumping $545 million of funding into the company.\n",
    "\n",
    "Sensoria\n",
    "\n",
    "Will there be any end to how much techies track their daily movements? Probably not, because now tracking is in their socks. Sensoria, a startup that has raised almost $6 million in venture funding and Indiegogo contributions, is best known for its smart socks, which measure cadence and speed while running. The company also makes shirts and other apparel full of sensors. Fitness trackers seem to be here to stay and the wearables market is only moving in one direction: up. Look for Sensoria to grow into an expanding market this year.\n",
    "\n",
    "HackerOne\n",
    "\n",
    "What's the hottest new cyber security trend? Inviting the hackers over to play. It seems counterintuitive, but companies serious about website and mobile app security are willing to pay hackers to find the flaws. Payments come in the form of bounties: for every vulnerability discovered, the hacker receives a fee. HackerOne is a platform that connects companies and hackers who want to engage in this kind of transaction. As it has become clear that it is almost impossible for cyber security experts to stay ahead of hackers, this method of security has become very popular. HackerOne has raised $34 million in funding.\n",
    "\n",
    "Vulcun\n",
    "\n",
    "Professional video gaming is becoming big business. Big enough that the number of viewers of the finals of major tournaments rivals viewership for major American sporting events. A logical offshoot is fantasy leagues based on the professional competitions, which is where Vulcun comes in. Vulcun is a marketplace where video game fans trade skins, a kind of token whose value depends on a pro gamer's (or a pro gaming team's) performance in a competition. Vulcun's investors, who have pumped $13 million into the company, are betting that video game fantasy markets will follow the same trajectory as those of football, which have seen explosive growth in recent years.\n",
    "\n",
    "Caviar\n",
    "\n",
    "Caviar isn't the only app for food delivery. But it has set itself apart by offering consumers custom menus from local restaurants--including high end ones--that don't deliver. The interface is efficient and a delivery's progress is tracked on a live map. The business model consists of private contractors taking on delivery duties with their own vehicles (both bikes and cars are fair game). In a bid to expand its offerings, Square bought Caviar for $90 million in August 2014. Six months later, orders had doubled. In the months since, Caviar has rapidly added staff to keep up with growth. Caviar continues to expand from one major American city to another.\n",
    "\n",
    "Shyp\n",
    "\n",
    "Like any tech startup worth its salt, Shyp is trying to remove the \"friction points\" from a cumbersome process. In this case, the process is shipping. Shyp takes the packing and dropping off out of the equation. Users simply take a picture of an object and choose a recipient. A little later, a courier shows up with a custom-sized box and whisks the object away. Shyp takes care of the rest: It routes the package from the courier to one of its own warehouses and, eventually, into the hands of a shipping service, such as UPS or FedEx, upon which it is whisked off to the recipient's address. The process could hardly be easier for the users at either end of the shipment. Founded in 2013, the company has gained traction quickly. Shyp has raised $62 million of equity funding and, in October, its CEO told Wired the company was experiencing 20 percent month-over-month growth.\n",
    "\n",
    "TheSkimm\n",
    "\n",
    "If you know a professional woman in her 20s or 30s, there's a good chance she's one of TheSkimm's more than 1.5 million subscribers. The daily news brief email, which consists of news, quotes, advice/tips and even birthday shout outs, has become something of a media sensation: it's attracted shout outs from Reese Witherspoon and Oprah. It has raised almost $8 million in funding. Now the two founders, former NBC producers, have ambitions beyond running a popular newsletter. Their daily emails' casual, snarky tone has struck a chord with readers and they envision parlaying their success into a wide-ranging media brand. Heading into 2016, momentum is on their side.\n",
    "\n",
    "AudioBurst\n",
    "\n",
    "AudioBurst wants to become the search engine for non-music audio content. Whether in the form of voice instruction (think Amazon Echo or Waze), podcasts, audiobooks, or talk radio, the spoken content ecosystem is enormous. AudioBurst has developed technology to become an organizing platform for this content, transforming raw streams into searchable and shareable bite-size \"bursts.\" The company's NLP platform currently accommodates talk radio, and will soon expand to podcasts and other mediums. With three million listens, 350,000 social engagements, and 400 publishing partners, AudioBurst has demonstrated success in its first six months--so don't be surprised if you hear more from this audio startup.\n",
    "\n",
    "Story2\n",
    "\n",
    "Untold millions are spent every year on college application prep. There are interview coaches, online SAT classes, and an entire publishing cottage industry dedicated to test prep books. But one crucial part of college applications has been neglected: the personal essay. Perhaps it's because the essay's impact is hard to quantify, so it's easy for parents, students and college counselors to ignore it. But college admissions officers often cite the essay as the keystone of an application: it's the one place an applicant becomes a person, rather than a series of numbers. Story2 is a SaaS essay-prep tool that guides students through essay writing for their college application. It's based on the idea that essay writing is essentially storytelling, and helps students turn their message into a compelling narrative--not by writing for them, but by arming students with tools and exercises that bring out their own best college essay writing.\n",
    "\n",
    "Andela\n",
    "\n",
    "When San Francisco and New York tech executives complain that they can't find a good software developer in their backyard, Andela's rely is simple -- there's a whole world out there. Andela runs highly competitive technical leadership programs in Africa and connects the program's graduates with international employers. The result is a new pool of talent at significantly lower cost for growing tech companies and superior employment opportunities for the best and the brightest in countries with few opportunities. Andela launched its first program in Nigeria, followed by Kenya. After raising a $10 million Series A round in June 2015, Andela plans to expand to more countries in its bid to help tech companies integrate great developers at a low cost, while spreading job opportunity around the globe.\n",
    "\n",
    "Blinklearning\n",
    "\n",
    "Blinklearning is in the business of making education personalized. The edtech company has created a comprehensive platform that allows educators to acquire and personalize content for an individual classroom or student. Its digital textbook repository has a wealth of content from dozens of publishers--including Macmillan, Pearson, and Oxford University Press--and enables teachers to mix and match lessons from various books in order to best suit the needs of their students. Founded in Madrid in 2009, and quickly expanding in the United States and Latin America, Blinklearning, along with the edtech segment in general, shows no signs of slowdown.\n",
    "\n",
    "uBeam\n",
    "\n",
    "uBeam has set its sights on a lofty, hard-to-imagine goal: a world almost entirely devoid of wires. The company's crucial claim has always been that it would develop technology for charging mobile devices wirelessly. But, in the name of protecting trade secrets, uBeam never publicly released much information on how its tech worked. Until recently. Last October, the company finally shed some light on its secrets, which involve beaming energy with ultrasound waves. The data dump has won over some skeptics and helped to explain why venture capital heavy hitters, such as Andreessen Horowitz, have funded uBeam to the tune of $25 million.\n",
    "\n",
    "Servers.com\n",
    "\n",
    "Servers.com is a hosting company that boasts super-secure, dedicated, bare-metal servers. Unlike some competitor's products, Servers.com's networks are highly isolated from each other, even within a single data center. This means that clients aren't exposed to all of the risks that come with sharing a hosting facility--such as a massive data breach originating on someone else's network. Last year, Servers.com opened its first US data center in Dallas. It plans to open another on the East Coast, which may put competitors, such as Digital Ocean, on notice that their market is getting hotter.\n",
    "\n",
    "WeGoLook\n",
    "\n",
    "The name says it all. WeGoLook sends its agents--called Lookers--to inspect almost anything a client wants. It started as a way for people to make sure that items listed on eBay and Craigslist were described accurately. WeGoLook still performs tasks like that for consumers, but it has also evolved into an enterprise-level inspection service for businesses ranging from real estate firms and insurance companies to banks. Whether to inspect a claim, assess damages or condition, or capture any other on-site data point, WeGoLook lets businesses push a button and have a qualified agent fulfill a task anywhere across the country. The company is aiming to bring the \\\"Gig Economy\\\" to the enterprise. WeGoLook has been heralded as a success story in Oklahoma, where it was founded, and has come as a welcome reminder that entrepreneurs don't have to migrate to the coasts to thrive.\n",
    "\n",
    "Oculus\n",
    "\n",
    "We've been hearing about virtual reality for at least two decades, but finally the technology appears ready to make the leap to the mainstream. Irvine, CA-based Oculus is at the forefront of the movement. The company offers a headset that is powered by a Samsung smartphone and another, the Rift, due for release in the first quarter of 2016, which is an advanced self-contained unit. Developers have been invited to create apps for the hardware, and virtual reality films are proliferating. Facebook has been a driving force behind Oculus's development since it paid $2 billion to acquire the company in 2014. Forget 3D; the future may belong to VR.\n",
    "\"\"\""
   ]
  },
  {
   "cell_type": "code",
   "execution_count": null,
   "metadata": {
    "collapsed": true
   },
   "outputs": [],
   "source": []
  }
 ],
 "metadata": {
  "kernelspec": {
   "display_name": "Python 2",
   "language": "python",
   "name": "python2"
  },
  "language_info": {
   "codemirror_mode": {
    "name": "ipython",
    "version": 2
   },
   "file_extension": ".py",
   "mimetype": "text/x-python",
   "name": "python",
   "nbconvert_exporter": "python",
   "pygments_lexer": "ipython2",
   "version": "2.7.5"
  }
 },
 "nbformat": 4,
 "nbformat_minor": 0
}
