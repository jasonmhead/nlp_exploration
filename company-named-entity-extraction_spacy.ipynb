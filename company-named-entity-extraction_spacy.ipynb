{
 "cells": [
  {
   "cell_type": "code",
   "execution_count": 96,
   "metadata": {
    "collapsed": false
   },
   "outputs": [],
   "source": [
    "import pandas as pd\n",
    "\n",
    "from IPython.display import display\n",
    "pd.options.display.max_columns = None\n",
    "\n",
    "from IPython.core.display import display, HTML\n",
    "\n",
    "import spacy\n",
    "en_nlp = spacy.load('en')\n",
    "\n",
    "import time"
   ]
  },
  {
   "cell_type": "code",
   "execution_count": 100,
   "metadata": {
    "collapsed": false
   },
   "outputs": [
    {
     "data": {
      "text/html": [
       "<style>.CodeMirror-scroll { max-height:300px !important; }</style>"
      ],
      "text/plain": [
       "<IPython.core.display.HTML object>"
      ]
     },
     "metadata": {},
     "output_type": "display_data"
    }
   ],
   "source": [
    "display(HTML(\"<style>.CodeMirror-scroll { max-height:300px !important; }</style>\"))\n",
    "testText = u\"\"\"\n",
    "Founded in 2015 and based in the Bay Area, Inverse is a technology-driven media company covering the latest news, TV, movies, music, digital culture, science, and innovation for a millennial male audience. \n",
    "Product Hunt is a daily leaderboard of the best new products. \n",
    "Founded in 2013 and with over $17 Million in startup fundraising efforts from Alexis Ohanian or Sam Altman, Patreon is a platform that allows content creators such as artists, YouTubers, photographers, musicians, authors, writers, and so forth to set up pages for their work and get support from their fans. \n",
    "Carousell is a simple way to sell the unused and underused clutter in your life. \n",
    "Doormint is a mobile platform for on-demand home based consumer utility services.\n",
    "Belong scans social media, internet and public sources to identify potential candidates for jobs. \n",
    "Based in New York City, Giphy is a search engine for GIFs. \n",
    "Maple hopes to reinvent the restaurant-delivery game by opening a delivery-only kitchen in New York City.\n",
    "BitGold‘s mission is to make gold accessible and useful in digital payments and secure savings.\n",
    "Leesa Sleep is putting up a good fight with some of the other, more established companies in the space.\n",
    "Voonik is a personal styling platform that is making shopping for clothes and accessories easier by combining multiple stores on its platform and letting shoppers check out all items in a single transaction.\n",
    "Zoomo is a Peer-to-Peer mobile marketplace for buying and selling used cars.\n",
    "Alodokter’s platform houses comprehensive information on medicines, diseases, fitness, and exercise.\n",
    "Opinio is another Bangalore startup making the list.\n",
    "Droom is India’s first mobile marketplace to buy and sell new and used automobiles.\n",
    "Lukas BieH2O.ai, cofounded by CEO SriSatish Ambati, offers an open source machine learning platform.\n",
    "wald, a former lead data scientist at Yahoo, founded CrowdFlower to build training data for machine learning. \n",
    "Darktrace is a three-year-old UK-based machine learning company focused on cyber-security.\n",
    "LogDNA is an early stage company aiming to apply machine learning to IT log data for a predictive approach to managing and maintaining systems.\n",
    "\"\"\""
   ]
  },
  {
   "cell_type": "code",
   "execution_count": 101,
   "metadata": {
    "collapsed": false
   },
   "outputs": [
    {
     "name": "stdout",
     "output_type": "stream",
     "text": [
      "21\n",
      "--- Took 0.06357145309448242 seconds ---\n"
     ]
    }
   ],
   "source": [
    "start_time = time.time()\n",
    "docs = en_nlp(testText)\n",
    "print(len(testText.split('\\n')))\n",
    "print(\"--- Took %s seconds ---\" % (time.time() - start_time))"
   ]
  },
  {
   "cell_type": "code",
   "execution_count": 32,
   "metadata": {
    "collapsed": false
   },
   "outputs": [
    {
     "name": "stdout",
     "output_type": "stream",
     "text": [
      "PERSON\n",
      "ORG\n",
      "GPE\n",
      "LOC\n",
      "MONEY\n",
      "DATE\n",
      "ORDINAL\n"
     ]
    }
   ],
   "source": [
    "ents = list(docs.ents)\n",
    "entity_list = {}\n",
    "for entity in ents:\n",
    "    entity_list.setdefault(entity.label_, []).append(' '.join(t.orth_ for t in entity));\n",
    "    #print(entity.label, entity.label_, ' '.join(t.orth_ for t in entity))\n",
    " \n",
    "# unique list of types available\n",
    "print('\\n'.join(set(entity_list)))"
   ]
  },
  {
   "cell_type": "code",
   "execution_count": 33,
   "metadata": {
    "collapsed": false
   },
   "outputs": [
    {
     "data": {
      "text/html": [
       "<div style=\"max-height:1000px;max-width:1500px;overflow:auto;\">\n",
       "<table border=\"1\" class=\"dataframe\">\n",
       "  <thead>\n",
       "    <tr style=\"text-align: right;\">\n",
       "      <th></th>\n",
       "      <th>0</th>\n",
       "      <th>1</th>\n",
       "      <th>2</th>\n",
       "      <th>3</th>\n",
       "      <th>4</th>\n",
       "      <th>5</th>\n",
       "      <th>6</th>\n",
       "      <th>7</th>\n",
       "    </tr>\n",
       "  </thead>\n",
       "  <tbody>\n",
       "    <tr>\n",
       "      <th>PERSON</th>\n",
       "      <td> Alexis Ohanian</td>\n",
       "      <td>    Sam Altman</td>\n",
       "      <td>             Belong</td>\n",
       "      <td> Lukas BieH2O.ai</td>\n",
       "      <td>         None</td>\n",
       "      <td>   None</td>\n",
       "      <td>  None</td>\n",
       "      <td>        None</td>\n",
       "    </tr>\n",
       "    <tr>\n",
       "      <th>ORG</th>\n",
       "      <td>        Patreon</td>\n",
       "      <td>     YouTubers</td>\n",
       "      <td>          Carousell</td>\n",
       "      <td>     Leesa Sleep</td>\n",
       "      <td> Alodokter ’s</td>\n",
       "      <td> Opinio</td>\n",
       "      <td> Yahoo</td>\n",
       "      <td> CrowdFlower</td>\n",
       "    </tr>\n",
       "    <tr>\n",
       "      <th>GPE</th>\n",
       "      <td>        Inverse</td>\n",
       "      <td> New York City</td>\n",
       "      <td>              Giphy</td>\n",
       "      <td>   New York City</td>\n",
       "      <td>    Bangalore</td>\n",
       "      <td>  India</td>\n",
       "      <td>    UK</td>\n",
       "      <td>        None</td>\n",
       "    </tr>\n",
       "    <tr>\n",
       "      <th>LOC</th>\n",
       "      <td>   the Bay Area</td>\n",
       "      <td>          None</td>\n",
       "      <td>               None</td>\n",
       "      <td>            None</td>\n",
       "      <td>         None</td>\n",
       "      <td>   None</td>\n",
       "      <td>  None</td>\n",
       "      <td>        None</td>\n",
       "    </tr>\n",
       "    <tr>\n",
       "      <th>MONEY</th>\n",
       "      <td>   $ 17 Million</td>\n",
       "      <td>          None</td>\n",
       "      <td>               None</td>\n",
       "      <td>            None</td>\n",
       "      <td>         None</td>\n",
       "      <td>   None</td>\n",
       "      <td>  None</td>\n",
       "      <td>        None</td>\n",
       "    </tr>\n",
       "    <tr>\n",
       "      <th>DATE</th>\n",
       "      <td>           2015</td>\n",
       "      <td>          2013</td>\n",
       "      <td> three - year - old</td>\n",
       "      <td>            None</td>\n",
       "      <td>         None</td>\n",
       "      <td>   None</td>\n",
       "      <td>  None</td>\n",
       "      <td>        None</td>\n",
       "    </tr>\n",
       "    <tr>\n",
       "      <th>ORDINAL</th>\n",
       "      <td>          first</td>\n",
       "      <td>          None</td>\n",
       "      <td>               None</td>\n",
       "      <td>            None</td>\n",
       "      <td>         None</td>\n",
       "      <td>   None</td>\n",
       "      <td>  None</td>\n",
       "      <td>        None</td>\n",
       "    </tr>\n",
       "  </tbody>\n",
       "</table>\n",
       "</div>"
      ],
      "text/plain": [
       "                      0              1                   2                3  \\\n",
       "PERSON   Alexis Ohanian     Sam Altman              Belong  Lukas BieH2O.ai   \n",
       "ORG             Patreon      YouTubers           Carousell      Leesa Sleep   \n",
       "GPE             Inverse  New York City               Giphy    New York City   \n",
       "LOC        the Bay Area           None                None             None   \n",
       "MONEY      $ 17 Million           None                None             None   \n",
       "DATE               2015           2013  three - year - old             None   \n",
       "ORDINAL           first           None                None             None   \n",
       "\n",
       "                    4       5      6            7  \n",
       "PERSON           None    None   None         None  \n",
       "ORG      Alodokter ’s  Opinio  Yahoo  CrowdFlower  \n",
       "GPE         Bangalore   India     UK         None  \n",
       "LOC              None    None   None         None  \n",
       "MONEY            None    None   None         None  \n",
       "DATE             None    None   None         None  \n",
       "ORDINAL          None    None   None         None  "
      ]
     },
     "execution_count": 33,
     "metadata": {},
     "output_type": "execute_result"
    }
   ],
   "source": [
    "df = pd.DataFrame.from_dict(entity_list, orient='index')\n",
    "df"
   ]
  },
  {
   "cell_type": "code",
   "execution_count": 59,
   "metadata": {
    "collapsed": true
   },
   "outputs": [],
   "source": [
    "def dependency_labels_to_root(token):\n",
    "    '''Walk up the syntactic tree, collecting the arc labels.'''\n",
    "    dep_labels = []\n",
    "    while token.head is not token:\n",
    "        dep_labels.append({token.text:token.dep_})\n",
    "        token = token.head\n",
    "    return dep_labels"
   ]
  },
  {
   "cell_type": "markdown",
   "metadata": {},
   "source": [
    "<b>Subjects with the full source sentence above the --------------- areas</b>"
   ]
  },
  {
   "cell_type": "code",
   "execution_count": 102,
   "metadata": {
    "collapsed": false
   },
   "outputs": [
    {
     "name": "stdout",
     "output_type": "stream",
     "text": [
      "Subject: Inverse : is : [{'Inverse': 'nsubj'}]\n",
      "\n",
      " LogDNA is an early stage company aiming to apply machine learning to IT log data for a predictive approach to managing and maintaining systems.\n",
      "---------------------\n",
      "Subject: Hunt : is : [{'Hunt': 'nsubj'}]\n",
      "\n",
      " LogDNA is an early stage company aiming to apply machine learning to IT log data for a predictive approach to managing and maintaining systems.\n",
      "---------------------\n",
      "Subject: Patreon : is : [{'Patreon': 'nsubj'}]\n",
      "Subject: that : allows : [{'that': 'nsubj'}, {'allows': 'relcl'}, {'platform': 'attr'}]\n",
      "\n",
      " LogDNA is an early stage company aiming to apply machine learning to IT log data for a predictive approach to managing and maintaining systems.\n",
      "---------------------\n",
      "Subject: Carousell : is : [{'Carousell': 'nsubj'}]\n",
      "\n",
      " LogDNA is an early stage company aiming to apply machine learning to IT log data for a predictive approach to managing and maintaining systems.\n",
      "---------------------\n",
      "Subject: Doormint : is : [{'Doormint': 'nsubj'}]\n",
      "\n",
      " LogDNA is an early stage company aiming to apply machine learning to IT log data for a predictive approach to managing and maintaining systems.\n",
      "---------------------\n",
      "Subject: Belong : scans : [{'Belong': 'nsubj'}]\n",
      "\n",
      " LogDNA is an early stage company aiming to apply machine learning to IT log data for a predictive approach to managing and maintaining systems.\n",
      "---------------------\n",
      "Subject: Giphy : is : [{'Giphy': 'nsubj'}]\n",
      "\n",
      " LogDNA is an early stage company aiming to apply machine learning to IT log data for a predictive approach to managing and maintaining systems.\n",
      "---------------------\n",
      "Subject: Maple : hopes : [{'Maple': 'nsubj'}]\n",
      "\n",
      " LogDNA is an early stage company aiming to apply machine learning to IT log data for a predictive approach to managing and maintaining systems.\n",
      "---------------------\n",
      "Subject: mission : is : [{'mission': 'nsubj'}]\n",
      "Subject: gold : accessible : [{'gold': 'nsubj'}, {'accessible': 'ccomp'}, {'make': 'xcomp'}]\n",
      "\n",
      " LogDNA is an early stage company aiming to apply machine learning to IT log data for a predictive approach to managing and maintaining systems.\n",
      "---------------------\n",
      "Subject: Sleep : putting : [{'Sleep': 'nsubj'}]\n",
      "\n",
      " LogDNA is an early stage company aiming to apply machine learning to IT log data for a predictive approach to managing and maintaining systems.\n",
      "---------------------\n",
      "Subject: Voonik : is : [{'Voonik': 'nsubj'}]\n",
      "Subject: that : making : [{'that': 'nsubj'}, {'making': 'relcl'}, {'platform': 'attr'}]\n",
      "Subject: shoppers : check : [{'shoppers': 'nsubj'}, {'check': 'ccomp'}, {'letting': 'conj'}, {'combining': 'pcomp'}, {'by': 'prep'}]\n",
      "\n",
      " LogDNA is an early stage company aiming to apply machine learning to IT log data for a predictive approach to managing and maintaining systems.\n",
      "---------------------\n",
      "Subject: Zoomo : is : [{'Zoomo': 'nsubj'}]\n",
      "\n",
      " LogDNA is an early stage company aiming to apply machine learning to IT log data for a predictive approach to managing and maintaining systems.\n",
      "---------------------\n",
      "Subject: ’s : houses : [{'’s': 'nsubj'}]\n",
      "\n",
      " LogDNA is an early stage company aiming to apply machine learning to IT log data for a predictive approach to managing and maintaining systems.\n",
      "---------------------\n",
      "Subject: Opinio : is : [{'Opinio': 'nsubj'}]\n",
      "\n",
      " LogDNA is an early stage company aiming to apply machine learning to IT log data for a predictive approach to managing and maintaining systems.\n",
      "---------------------\n",
      "Subject: Droom : is : [{'Droom': 'nsubj'}]\n",
      "\n",
      " LogDNA is an early stage company aiming to apply machine learning to IT log data for a predictive approach to managing and maintaining systems.\n",
      "---------------------\n",
      "Subject: BieH2O.ai : offers : [{'BieH2O.ai': 'nsubj'}]\n",
      "\n",
      " LogDNA is an early stage company aiming to apply machine learning to IT log data for a predictive approach to managing and maintaining systems.\n",
      "---------------------\n",
      "Subject: wald : founded : [{'wald': 'nsubj'}]\n",
      "\n",
      " LogDNA is an early stage company aiming to apply machine learning to IT log data for a predictive approach to managing and maintaining systems.\n",
      "---------------------\n",
      "Subject: Darktrace : is : [{'Darktrace': 'nsubj'}]\n",
      "\n",
      " LogDNA is an early stage company aiming to apply machine learning to IT log data for a predictive approach to managing and maintaining systems.\n",
      "---------------------\n",
      "Subject: LogDNA : is : [{'LogDNA': 'nsubj'}]\n",
      "Subject: IT : log : [{'IT': 'nsubj'}, {'log': 'conj'}]\n",
      "\n",
      " LogDNA is an early stage company aiming to apply machine learning to IT log data for a predictive approach to managing and maintaining systems.\n",
      "---------------------\n"
     ]
    }
   ],
   "source": [
    "sentences = [sent.string.strip() for sent in docs.sents]\n",
    "subjects = []\n",
    "\n",
    "sent_counter = 0\n",
    "for idx, word in enumerate(docs):\n",
    "    if 'subj' in word.dep_:\n",
    "        subjects.append(word.text)\n",
    "        print('Subject:', word.text,\":\",word.head,\":\",dependency_labels_to_root(word))\n",
    "    if word.text == \".\":\n",
    "        print(\"\\n\",sentence)\n",
    "        print(\"---------------------\")\n",
    "        sent_counter = sent_counter + 1\n",
    "        #    if 'obj' in word.dep_:\n",
    "#        print('---> Object:', word.text,\":\",word.head,\":\",dependency_labels_to_root(word))    "
   ]
  },
  {
   "cell_type": "markdown",
   "metadata": {},
   "source": [
    "<b>Noun Chunks - Noun entities that may stretch over one word</b>"
   ]
  },
  {
   "cell_type": "code",
   "execution_count": 58,
   "metadata": {
    "collapsed": false
   },
   "outputs": [
    {
     "name": "stdout",
     "output_type": "stream",
     "text": [
      "the Bay Area\n",
      "Inverse\n",
      "a technology-driven media company\n",
      "the latest news\n",
      "a millennial male audience\n",
      "Product Hunt\n",
      "a daily leaderboard\n",
      "the best new products\n",
      "startup fundraising efforts\n",
      "Alexis Ohanian\n",
      "Patreon\n",
      "a platform\n",
      "content creators\n",
      "artists\n",
      "YouTubers\n",
      "photographers\n",
      "musicians\n",
      "authors\n",
      "writers\n",
      "pages\n",
      "their work\n",
      "support\n",
      "their fans\n",
      "Carousell\n",
      "a simple way\n",
      "the unused and underused clutter\n",
      "your life\n",
      "Doormint\n",
      "a mobile platform\n",
      "demand\n",
      "on-demand home based consumer utility services\n",
      "Belong\n",
      "social media\n",
      "internet\n",
      "public sources\n",
      "potential candidates\n",
      "jobs\n",
      "New York City\n",
      "Giphy\n",
      "a search engine\n",
      "GIFs\n",
      "Maple\n",
      "the restaurant-delivery game\n",
      "a delivery-only kitchen\n",
      "New York City\n",
      "BitGold‘s mission\n",
      "gold\n",
      "digital payments\n",
      "secure savings\n",
      "Leesa Sleep\n",
      "a good fight\n",
      "the space\n",
      "Voonik\n",
      "a personal styling platform\n",
      "shopping\n",
      "clothes\n",
      "accessories\n",
      "multiple stores\n",
      "its platform\n",
      "shoppers\n",
      "all items\n",
      "a single transaction\n",
      "Zoomo\n",
      "Peer\n",
      "a Peer-to-Peer mobile marketplace\n",
      "used cars\n",
      "Alodokter’s\n",
      "comprehensive information\n",
      "medicines\n",
      "diseases\n",
      "fitness\n",
      "exercise\n",
      "Opinio\n",
      "another Bangalore startup\n",
      "the list\n",
      "Droom\n",
      "India’s first mobile marketplace\n",
      "new and used automobiles\n",
      "Lukas BieH2O.ai\n",
      "CEO SriSatish Ambati\n",
      "an open source machine learning platform\n",
      "wald\n",
      "Yahoo\n",
      "CrowdFlower\n",
      "training data\n",
      "machine learning\n",
      "Darktrace\n",
      "a three-year-old UK-based machine learning company\n",
      "cyber-security\n",
      "LogDNA\n",
      "an early stage company\n",
      "machine learning\n",
      "IT\n",
      "data\n",
      "a predictive approach\n",
      "systems\n"
     ]
    }
   ],
   "source": [
    "for np in docs.noun_chunks:\n",
    "    print(np.text)"
   ]
  },
  {
   "cell_type": "code",
   "execution_count": 52,
   "metadata": {
    "collapsed": false
   },
   "outputs": [],
   "source": []
  },
  {
   "cell_type": "code",
   "execution_count": 54,
   "metadata": {
    "collapsed": true
   },
   "outputs": [],
   "source": []
  },
  {
   "cell_type": "code",
   "execution_count": null,
   "metadata": {
    "collapsed": true
   },
   "outputs": [],
   "source": []
  }
 ],
 "metadata": {
  "kernelspec": {
   "display_name": "IPython (Python 3)",
   "language": "python",
   "name": "python3"
  },
  "language_info": {
   "codemirror_mode": {
    "name": "ipython",
    "version": 3
   },
   "file_extension": ".py",
   "mimetype": "text/x-python",
   "name": "python",
   "nbconvert_exporter": "python",
   "pygments_lexer": "ipython3",
   "version": "3.4.3+"
  }
 },
 "nbformat": 4,
 "nbformat_minor": 0
}
